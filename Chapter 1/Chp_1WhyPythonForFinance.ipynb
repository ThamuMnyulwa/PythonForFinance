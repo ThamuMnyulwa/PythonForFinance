{
 "cells": [
  {
   "cell_type": "markdown",
   "metadata": {},
   "source": [
    "Authour: Thamu Mnyulwa\n",
    "\n",
    "Last Update: 14/04/2020\n",
    "\n",
    "**If I am breaking any copyright laws, please ask me to remove the information. These notes are written for me and not for any financial gain. Please don't sue me, I am poor.**"
   ]
  },
  {
   "cell_type": "markdown",
   "metadata": {},
   "source": [
    "These notebooks were written on Quant Platform for the book \"Python for finance\". To [register or login click here](https://py4fi.pqp.io/nb/portal/login).\n",
    "\n",
    "According to the admin,Quant platform is a:\n",
    "* Browser-based Financial Analytics and Application Development as well as\n",
    "* Learning Python for Financial Data Science, Computational Finance & Algorithmic Trading"
   ]
  },
  {
   "cell_type": "markdown",
   "metadata": {},
   "source": [
    "* Video https://youtube.com/watch?v=MGwV-afyyF4 to get started with the Quant Platform.\n",
    "* [Tutorial on Jupyter notebooks](https://jupyter.brynmawr.edu/services/public/dblank/Jupyter%20Notebook%20Users%20Manual.ipynb), for reference."
   ]
  },
  {
   "cell_type": "markdown",
   "metadata": {},
   "source": [
    "# Chapter 1: Why Python for finance\n",
    "\n",
    "> \"Banks are essentially technology firms.\" - Hugo Banziger\n",
    "\n",
    "Summary: This chapter basically adresses Python in general and issues an argument that Python is well suited to adress issues in the financial industry."
   ]
  },
  {
   "cell_type": "markdown",
   "metadata": {},
   "source": [
    "Python is a high-level, multipurpose programming language used in a wide range of domains and technical fields. For an executive summary see [Python Website](https://www.python.org/doc/essays/blurb/).\n",
    "\n",
    "> Advantageous Features:\n",
    "1. Open source\n",
    "2. Interpreted\n",
    "3. Multiparagdim\n",
    "4. Multipurpose\n",
    "5. Cross Platform\n",
    "6. Dynamically typed\n",
    "7. Indentation aware\n",
    "8. Grabage Collecting"
   ]
  },
  {
   "cell_type": "code",
   "execution_count": 1,
   "metadata": {},
   "outputs": [
    {
     "name": "stdout",
     "output_type": "stream",
     "text": [
      "The Zen of Python, by Tim Peters\n",
      "\n",
      "Beautiful is better than ugly.\n",
      "Explicit is better than implicit.\n",
      "Simple is better than complex.\n",
      "Complex is better than complicated.\n",
      "Flat is better than nested.\n",
      "Sparse is better than dense.\n",
      "Readability counts.\n",
      "Special cases aren't special enough to break the rules.\n",
      "Although practicality beats purity.\n",
      "Errors should never pass silently.\n",
      "Unless explicitly silenced.\n",
      "In the face of ambiguity, refuse the temptation to guess.\n",
      "There should be one-- and preferably only one --obvious way to do it.\n",
      "Although that way may not be obvious at first unless you're Dutch.\n",
      "Now is better than never.\n",
      "Although never is often better than *right* now.\n",
      "If the implementation is hard to explain, it's a bad idea.\n",
      "If the implementation is easy to explain, it may be a good idea.\n",
      "Namespaces are one honking great idea -- let's do more of those!\n"
     ]
    }
   ],
   "source": [
    "import this"
   ]
  },
  {
   "cell_type": "markdown",
   "metadata": {},
   "source": [
    "> The Python Ecosystem\n",
    "\n",
    "The python ecosystem has a great community and a large number of packages. To use these we first have to import them. In some **preamble**. Python already comes in with some inbuilt functions in the [Standard Library](https://docs.python.org/3/library/index.html). This books examples use interactive enviroments [IPython](https://ipython.org/) and [Jupyter](http://jupyter.org/)"
   ]
  },
  {
   "cell_type": "markdown",
   "metadata": {},
   "source": [
    "> The Scientific Stack\n",
    "\n",
    "A certain set of packages used often in scientific computing. Depening on your domain this list may change. However the basic building blocks are the *NumPy ndarray* class and the *pandas DataFrame* class.\n",
    "\n",
    "|Package|Description|\n",
    "|------|------|\n",
    "|[Numpy](https://numpy.org/)  |Cell  |\n",
    "|[Scipy](https://www.scipy.org/about.html)  |Cell  |\n",
    "|[matplotlib](https://matplotlib.org/index.html)  |Cell  |\n",
    "|[pandas](http://pandas.pydata.org/)  |Cell  |\n",
    "|[scikit-learn](https://scikit-learn.org/stable/)  |Cell  |\n",
    "|[PyTables](http://www.pytables.org/)  |Cell  |"
   ]
  },
  {
   "cell_type": "markdown",
   "metadata": {},
   "source": [
    "### Finance an Python Syntax"
   ]
  },
  {
   "cell_type": "markdown",
   "metadata": {},
   "source": [
    "Python syntax is generally similar to that of mathamatical notation. Lets illustrate this with an example. The valuation of a European call option by Monte Carlo. Let's consider  a Black-Scholes-Merton (BSM) setup, where the option's underlying risk follows a geometric Brownian motion.\n",
    "\n",
    "> Equation 1-1 Black-Scholes-Merton(1973) index level at maturity\n",
    "\\begin{equation}\n",
    "S_{T} = S_{0}\\text{ }\\text{exp}( (r-\\frac{1}{2}\\sigma^{2})T+\\sigma\\sqrt{T} z )\n",
    "\\end{equation}"
   ]
  },
  {
   "cell_type": "markdown",
   "metadata": {},
   "source": [
    "Parameter:\n"
   ]
  },
  {
   "cell_type": "code",
   "execution_count": 13,
   "metadata": {},
   "outputs": [
    {
     "data": {
      "text/plain": [
       "32.0"
      ]
     },
     "execution_count": 13,
     "metadata": {},
     "output_type": "execute_result"
    }
   ],
   "source": [
    "import math\n",
    "import numpy as np\n",
    "math.ceil(np.sqrt(1000))"
   ]
  },
  {
   "cell_type": "code",
   "execution_count": 15,
   "metadata": {},
   "outputs": [
    {
     "data": {
      "text/plain": [
       "23.79559242064105"
      ]
     },
     "execution_count": 15,
     "metadata": {},
     "output_type": "execute_result"
    }
   ],
   "source": []
  }
 ],
 "metadata": {
  "kernelspec": {
   "display_name": "Python 2.7",
   "language": "python2",
   "name": "python2"
  },
  "language_info": {
   "codemirror_mode": {
    "name": "ipython",
    "version": 2
   },
   "file_extension": ".py",
   "mimetype": "text/x-python",
   "name": "python",
   "nbconvert_exporter": "python",
   "pygments_lexer": "ipython2",
   "version": "2.7.15"
  }
 },
 "nbformat": 4,
 "nbformat_minor": 2
}

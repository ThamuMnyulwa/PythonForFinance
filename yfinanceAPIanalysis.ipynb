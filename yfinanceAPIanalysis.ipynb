{
  "nbformat": 4,
  "nbformat_minor": 0,
  "metadata": {
    "colab": {
      "name": "yfinanceAPIanalysis.ipynb",
      "provenance": [],
      "authorship_tag": "ABX9TyOtJblYdCP3NPSUATu+EHjQ"
    },
    "kernelspec": {
      "name": "python3",
      "display_name": "Python 3"
    }
  },
  "cells": [
    {
      "cell_type": "markdown",
      "metadata": {
        "id": "4PCSfpJaNeqX",
        "colab_type": "text"
      },
      "source": [
        "#### Yahoo Finance tutorial\n",
        "\n",
        "Authour: Thamu Mnyulwa\n",
        "\n",
        "Last Updated: 15/04/2020 09:00pm"
      ]
    },
    {
      "cell_type": "markdown",
      "metadata": {
        "id": "nKuCIiRbN5Oq",
        "colab_type": "text"
      },
      "source": [
        "* [Yahoo Finance](https://pypi.org/project/yfinance/)\n",
        "* [What is yfinance](https://aroussi.com/post/python-yahoo-finance) \n",
        "\n",
        "\n",
        "\n",
        "\n",
        "Yahoo finance API can import financial data, by webscrapping yahoo finance. It is installed as shown below.\n",
        "\n",
        "```Python\n",
        "#!setup.py install\n",
        "#!pip install  yfinance\n",
        "\n",
        "import yfinance as yf\n",
        "```"
      ]
    },
    {
      "cell_type": "markdown",
      "metadata": {
        "id": "3RTJptTCP1E3",
        "colab_type": "text"
      },
      "source": [
        "The <code>Tickers()</code> model allows you to call on a particular security and collect both **market** (**structured data** such as \"historical price\") and meta **data** (**unstructured data** such as news/some text)."
      ]
    },
    {
      "cell_type": "code",
      "metadata": {
        "id": "wVLUym4KN2Ch",
        "colab_type": "code",
        "colab": {}
      },
      "source": [
        "#Preamble, install packages including yfinance\n",
        "#!setup.py install\n",
        "#!pip install  yfinance\n",
        "\n",
        "import yfinance as yf\n",
        "import matplotlib.pyplot as plt\n",
        "import numpy as np"
      ],
      "execution_count": 0,
      "outputs": []
    },
    {
      "cell_type": "markdown",
      "metadata": {
        "id": "essIV6gERITO",
        "colab_type": "text"
      },
      "source": [
        "> Using Tickes module on a single security\n"
      ]
    },
    {
      "cell_type": "code",
      "metadata": {
        "id": "-M9OGS3MRJF0",
        "colab_type": "code",
        "colab": {
          "base_uri": "https://localhost:8080/",
          "height": 35
        },
        "outputId": "68b041e4-6645-47e6-8089-0548cb89ff57"
      },
      "source": [
        "# Initialize Ticker objects \" Change the ticker Symbol to\"\n",
        "Capitec = yf.Ticker('CPI.JO')\n",
        "#Return the ticker object\n",
        "print(Capitec)"
      ],
      "execution_count": 67,
      "outputs": [
        {
          "output_type": "stream",
          "text": [
            "yfinance.Ticker object <CPI.JO>\n"
          ],
          "name": "stdout"
        }
      ]
    },
    {
      "cell_type": "code",
      "metadata": {
        "id": "U30rpF8WR1BC",
        "colab_type": "code",
        "colab": {
          "base_uri": "https://localhost:8080/",
          "height": 1000
        },
        "outputId": "5ba4965c-ac3e-4082-9917-0b548326be34"
      },
      "source": [
        "# Get the security info \"yf.Ticker(\"MSFT\").info\" .info module\n",
        "Capitec.info"
      ],
      "execution_count": 68,
      "outputs": [
        {
          "output_type": "execute_result",
          "data": {
            "text/plain": [
              "{'52WeekChange': -0.24928492,\n",
              " 'SandP52WeekChange': -0.018752217,\n",
              " 'address1': '1 Quantum Street',\n",
              " 'address2': 'Techno Park',\n",
              " 'algorithm': None,\n",
              " 'annualHoldingsTurnover': None,\n",
              " 'annualReportExpenseRatio': None,\n",
              " 'ask': 100000,\n",
              " 'askSize': None,\n",
              " 'averageDailyVolume10Day': 269511,\n",
              " 'averageVolume': 379608,\n",
              " 'averageVolume10days': 269511,\n",
              " 'beta': 0.870392,\n",
              " 'beta3Year': None,\n",
              " 'bid': 96000,\n",
              " 'bidSize': None,\n",
              " 'bookValue': 220.604,\n",
              " 'category': None,\n",
              " 'circulatingSupply': None,\n",
              " 'city': 'Stellenbosch',\n",
              " 'companyOfficers': [],\n",
              " 'country': 'South Africa',\n",
              " 'currency': 'ZAc',\n",
              " 'dateShortInterest': None,\n",
              " 'dayHigh': 105774,\n",
              " 'dayLow': 96000,\n",
              " 'dividendRate': 18.75,\n",
              " 'dividendYield': 0.0177,\n",
              " 'earningsQuarterlyGrowth': 0.163,\n",
              " 'enterpriseToEbitda': None,\n",
              " 'enterpriseToRevenue': 5.325,\n",
              " 'enterpriseValue': 88453996544,\n",
              " 'exDividendDate': 1572393600,\n",
              " 'exchange': 'JNB',\n",
              " 'exchangeTimezoneName': 'Africa/Johannesburg',\n",
              " 'exchangeTimezoneShortName': 'SAST',\n",
              " 'expireDate': None,\n",
              " 'fax': '27 21 880 1207',\n",
              " 'fiftyDayAverage': 110118.86,\n",
              " 'fiftyTwoWeekHigh': 149756,\n",
              " 'fiftyTwoWeekLow': 53986,\n",
              " 'fiveYearAverageReturn': None,\n",
              " 'fiveYearAvgDividendYield': 1.56,\n",
              " 'floatShares': 56945137,\n",
              " 'forwardEps': None,\n",
              " 'forwardPE': None,\n",
              " 'fromCurrency': None,\n",
              " 'fullTimeEmployees': 14590,\n",
              " 'fundFamily': None,\n",
              " 'fundInceptionDate': None,\n",
              " 'gmtOffSetMilliseconds': '7200000',\n",
              " 'heldPercentInsiders': None,\n",
              " 'heldPercentInstitutions': None,\n",
              " 'industry': 'Banks—Regional',\n",
              " 'isEsgPopulated': False,\n",
              " 'lastCapGain': None,\n",
              " 'lastDividendValue': None,\n",
              " 'lastFiscalYearEnd': 1582934400,\n",
              " 'lastMarket': None,\n",
              " 'lastSplitDate': None,\n",
              " 'lastSplitFactor': None,\n",
              " 'legalType': None,\n",
              " 'logo_url': 'https://logo.clearbit.com/capitecbank.co.za',\n",
              " 'longBusinessSummary': 'Capitec Bank Holdings Limited, through its subsidiaries, provides various retail banking products and services in South Africa. The company offers various deposits products, including transaction and savings accounts; and credit facilities, credit cards, home loans, and personal term loans. It also provides point-of-sale payment solutions, salary transfer, workplace banking, Internet banking, and mobile banking services. As of February 2019, it operated approximately 840 branches and 5,011 ATMs. Capitec Bank Holdings Limited was incorporated in 1999 and is based in Stellenbosch, South Africa.',\n",
              " 'longName': 'Capitec Bank Holdings Limited',\n",
              " 'market': 'za_market',\n",
              " 'marketCap': 111104827392,\n",
              " 'maxAge': 1,\n",
              " 'maxSupply': None,\n",
              " 'messageBoardId': 'finmb_7687718',\n",
              " 'morningStarOverallRating': None,\n",
              " 'morningStarRiskRating': None,\n",
              " 'mostRecentQuarter': 1582934400,\n",
              " 'navPrice': None,\n",
              " 'netIncomeToCommon': 6243305984,\n",
              " 'nextFiscalYearEnd': 1646092800,\n",
              " 'open': 105774,\n",
              " 'openInterest': None,\n",
              " 'payoutRatio': 0.3508,\n",
              " 'pegRatio': None,\n",
              " 'phone': '27 21 809 5900',\n",
              " 'previousClose': 105775,\n",
              " 'priceHint': 2,\n",
              " 'priceToBook': 435.57233,\n",
              " 'priceToSalesTrailing12Months': 6.688753,\n",
              " 'profitMargins': 0.37633,\n",
              " 'quoteType': 'EQUITY',\n",
              " 'regularMarketDayHigh': 105774,\n",
              " 'regularMarketDayLow': 96000,\n",
              " 'regularMarketOpen': 105774,\n",
              " 'regularMarketPreviousClose': 105775,\n",
              " 'regularMarketPrice': 105774,\n",
              " 'regularMarketVolume': 673798,\n",
              " 'revenueQuarterlyGrowth': None,\n",
              " 'sector': 'Financial Services',\n",
              " 'sharesOutstanding': 115627000,\n",
              " 'sharesPercentSharesOut': None,\n",
              " 'sharesShort': None,\n",
              " 'sharesShortPreviousMonthDate': None,\n",
              " 'sharesShortPriorMonth': None,\n",
              " 'shortName': 'Capitec Bank Hldgs Ltd',\n",
              " 'shortPercentOfFloat': None,\n",
              " 'shortRatio': None,\n",
              " 'startDate': None,\n",
              " 'strikePrice': None,\n",
              " 'symbol': 'CPI.JO',\n",
              " 'threeYearAverageReturn': None,\n",
              " 'toCurrency': None,\n",
              " 'totalAssets': None,\n",
              " 'tradeable': False,\n",
              " 'trailingAnnualDividendRate': 7.55,\n",
              " 'trailingAnnualDividendYield': 7.137793e-05,\n",
              " 'trailingEps': 53.91,\n",
              " 'trailingPE': 1782.3966,\n",
              " 'twoHundredDayAverage': 132755.58,\n",
              " 'volume': 673798,\n",
              " 'volume24Hr': None,\n",
              " 'volumeAllCurrencies': None,\n",
              " 'website': 'http://www.capitecbank.co.za',\n",
              " 'yield': None,\n",
              " 'ytdReturn': None,\n",
              " 'zip': '7600'}"
            ]
          },
          "metadata": {
            "tags": []
          },
          "execution_count": 68
        }
      ]
    },
    {
      "cell_type": "code",
      "metadata": {
        "id": "qR7FvoUAff5c",
        "colab_type": "code",
        "colab": {
          "base_uri": "https://localhost:8080/",
          "height": 35
        },
        "outputId": "19dc99b2-17c4-424e-9b98-c01b94ac0ea3"
      },
      "source": [
        "Capitec.info['symbol'] # Ticker Symbol"
      ],
      "execution_count": 84,
      "outputs": [
        {
          "output_type": "execute_result",
          "data": {
            "text/plain": [
              "'CPI.JO'"
            ]
          },
          "metadata": {
            "tags": []
          },
          "execution_count": 84
        }
      ]
    },
    {
      "cell_type": "code",
      "metadata": {
        "id": "I5rCnfQzncGQ",
        "colab_type": "code",
        "colab": {
          "base_uri": "https://localhost:8080/",
          "height": 35
        },
        "outputId": "e4c60d93-13aa-4528-8d32-27e8f99ecd76"
      },
      "source": [
        "Capitec.info['quoteType'] # Security Type"
      ],
      "execution_count": 83,
      "outputs": [
        {
          "output_type": "execute_result",
          "data": {
            "text/plain": [
              "'EQUITY'"
            ]
          },
          "metadata": {
            "tags": []
          },
          "execution_count": 83
        }
      ]
    },
    {
      "cell_type": "code",
      "metadata": {
        "id": "sUfDoIzLSxFM",
        "colab_type": "code",
        "colab": {
          "base_uri": "https://localhost:8080/",
          "height": 223
        },
        "outputId": "454a4dc4-e03d-4de8-82c9-5c85c9333dea"
      },
      "source": [
        "# get historical market data\n",
        "data = Capitec.history(period=\"max\")\n",
        "data.head()"
      ],
      "execution_count": 70,
      "outputs": [
        {
          "output_type": "execute_result",
          "data": {
            "text/html": [
              "<div>\n",
              "<style scoped>\n",
              "    .dataframe tbody tr th:only-of-type {\n",
              "        vertical-align: middle;\n",
              "    }\n",
              "\n",
              "    .dataframe tbody tr th {\n",
              "        vertical-align: top;\n",
              "    }\n",
              "\n",
              "    .dataframe thead th {\n",
              "        text-align: right;\n",
              "    }\n",
              "</style>\n",
              "<table border=\"1\" class=\"dataframe\">\n",
              "  <thead>\n",
              "    <tr style=\"text-align: right;\">\n",
              "      <th></th>\n",
              "      <th>Open</th>\n",
              "      <th>High</th>\n",
              "      <th>Low</th>\n",
              "      <th>Close</th>\n",
              "      <th>Volume</th>\n",
              "      <th>Dividends</th>\n",
              "      <th>Stock Splits</th>\n",
              "    </tr>\n",
              "    <tr>\n",
              "      <th>Date</th>\n",
              "      <th></th>\n",
              "      <th></th>\n",
              "      <th></th>\n",
              "      <th></th>\n",
              "      <th></th>\n",
              "      <th></th>\n",
              "      <th></th>\n",
              "    </tr>\n",
              "  </thead>\n",
              "  <tbody>\n",
              "    <tr>\n",
              "      <th>2002-02-19</th>\n",
              "      <td>91.71</td>\n",
              "      <td>91.71</td>\n",
              "      <td>70.31</td>\n",
              "      <td>78.97</td>\n",
              "      <td>142376</td>\n",
              "      <td>0.0</td>\n",
              "      <td>0</td>\n",
              "    </tr>\n",
              "    <tr>\n",
              "      <th>2002-02-20</th>\n",
              "      <td>75.41</td>\n",
              "      <td>75.41</td>\n",
              "      <td>75.41</td>\n",
              "      <td>75.41</td>\n",
              "      <td>103</td>\n",
              "      <td>0.0</td>\n",
              "      <td>0</td>\n",
              "    </tr>\n",
              "    <tr>\n",
              "      <th>2002-02-21</th>\n",
              "      <td>75.41</td>\n",
              "      <td>75.41</td>\n",
              "      <td>61.14</td>\n",
              "      <td>61.14</td>\n",
              "      <td>170840</td>\n",
              "      <td>0.0</td>\n",
              "      <td>0</td>\n",
              "    </tr>\n",
              "    <tr>\n",
              "      <th>2002-02-22</th>\n",
              "      <td>61.14</td>\n",
              "      <td>62.16</td>\n",
              "      <td>61.14</td>\n",
              "      <td>61.14</td>\n",
              "      <td>1393434</td>\n",
              "      <td>0.0</td>\n",
              "      <td>0</td>\n",
              "    </tr>\n",
              "    <tr>\n",
              "      <th>2002-02-25</th>\n",
              "      <td>61.14</td>\n",
              "      <td>62.16</td>\n",
              "      <td>56.05</td>\n",
              "      <td>56.05</td>\n",
              "      <td>280677</td>\n",
              "      <td>0.0</td>\n",
              "      <td>0</td>\n",
              "    </tr>\n",
              "  </tbody>\n",
              "</table>\n",
              "</div>"
            ],
            "text/plain": [
              "             Open   High    Low  Close   Volume  Dividends  Stock Splits\n",
              "Date                                                                    \n",
              "2002-02-19  91.71  91.71  70.31  78.97   142376        0.0             0\n",
              "2002-02-20  75.41  75.41  75.41  75.41      103        0.0             0\n",
              "2002-02-21  75.41  75.41  61.14  61.14   170840        0.0             0\n",
              "2002-02-22  61.14  62.16  61.14  61.14  1393434        0.0             0\n",
              "2002-02-25  61.14  62.16  56.05  56.05   280677        0.0             0"
            ]
          },
          "metadata": {
            "tags": []
          },
          "execution_count": 70
        }
      ]
    },
    {
      "cell_type": "code",
      "metadata": {
        "id": "EuU4gOF3d3Ou",
        "colab_type": "code",
        "colab": {
          "base_uri": "https://localhost:8080/",
          "height": 223
        },
        "outputId": "5491b028-4ff2-4fa7-e899-09f0198923e1"
      },
      "source": [
        "data.tail()"
      ],
      "execution_count": 71,
      "outputs": [
        {
          "output_type": "execute_result",
          "data": {
            "text/html": [
              "<div>\n",
              "<style scoped>\n",
              "    .dataframe tbody tr th:only-of-type {\n",
              "        vertical-align: middle;\n",
              "    }\n",
              "\n",
              "    .dataframe tbody tr th {\n",
              "        vertical-align: top;\n",
              "    }\n",
              "\n",
              "    .dataframe thead th {\n",
              "        text-align: right;\n",
              "    }\n",
              "</style>\n",
              "<table border=\"1\" class=\"dataframe\">\n",
              "  <thead>\n",
              "    <tr style=\"text-align: right;\">\n",
              "      <th></th>\n",
              "      <th>Open</th>\n",
              "      <th>High</th>\n",
              "      <th>Low</th>\n",
              "      <th>Close</th>\n",
              "      <th>Volume</th>\n",
              "      <th>Dividends</th>\n",
              "      <th>Stock Splits</th>\n",
              "    </tr>\n",
              "    <tr>\n",
              "      <th>Date</th>\n",
              "      <th></th>\n",
              "      <th></th>\n",
              "      <th></th>\n",
              "      <th></th>\n",
              "      <th></th>\n",
              "      <th></th>\n",
              "      <th></th>\n",
              "    </tr>\n",
              "  </thead>\n",
              "  <tbody>\n",
              "    <tr>\n",
              "      <th>2020-04-07</th>\n",
              "      <td>101800.0</td>\n",
              "      <td>118431.0</td>\n",
              "      <td>100250.0</td>\n",
              "      <td>108500.0</td>\n",
              "      <td>443467</td>\n",
              "      <td>0.0</td>\n",
              "      <td>0</td>\n",
              "    </tr>\n",
              "    <tr>\n",
              "      <th>2020-04-08</th>\n",
              "      <td>108500.0</td>\n",
              "      <td>108483.0</td>\n",
              "      <td>100000.0</td>\n",
              "      <td>102470.0</td>\n",
              "      <td>410980</td>\n",
              "      <td>0.0</td>\n",
              "      <td>0</td>\n",
              "    </tr>\n",
              "    <tr>\n",
              "      <th>2020-04-09</th>\n",
              "      <td>105200.0</td>\n",
              "      <td>108000.0</td>\n",
              "      <td>101812.0</td>\n",
              "      <td>107100.0</td>\n",
              "      <td>263414</td>\n",
              "      <td>0.0</td>\n",
              "      <td>0</td>\n",
              "    </tr>\n",
              "    <tr>\n",
              "      <th>2020-04-14</th>\n",
              "      <td>108113.0</td>\n",
              "      <td>109943.0</td>\n",
              "      <td>102500.0</td>\n",
              "      <td>105775.0</td>\n",
              "      <td>363324</td>\n",
              "      <td>0.0</td>\n",
              "      <td>0</td>\n",
              "    </tr>\n",
              "    <tr>\n",
              "      <th>2020-04-15</th>\n",
              "      <td>105774.0</td>\n",
              "      <td>105774.0</td>\n",
              "      <td>96000.0</td>\n",
              "      <td>96089.0</td>\n",
              "      <td>673798</td>\n",
              "      <td>0.0</td>\n",
              "      <td>0</td>\n",
              "    </tr>\n",
              "  </tbody>\n",
              "</table>\n",
              "</div>"
            ],
            "text/plain": [
              "                Open      High       Low  ...  Volume  Dividends  Stock Splits\n",
              "Date                                      ...                                 \n",
              "2020-04-07  101800.0  118431.0  100250.0  ...  443467        0.0             0\n",
              "2020-04-08  108500.0  108483.0  100000.0  ...  410980        0.0             0\n",
              "2020-04-09  105200.0  108000.0  101812.0  ...  263414        0.0             0\n",
              "2020-04-14  108113.0  109943.0  102500.0  ...  363324        0.0             0\n",
              "2020-04-15  105774.0  105774.0   96000.0  ...  673798        0.0             0\n",
              "\n",
              "[5 rows x 7 columns]"
            ]
          },
          "metadata": {
            "tags": []
          },
          "execution_count": 71
        }
      ]
    },
    {
      "cell_type": "code",
      "metadata": {
        "id": "a0ywaB2-eMQV",
        "colab_type": "code",
        "colab": {
          "base_uri": "https://localhost:8080/",
          "height": 281
        },
        "outputId": "0350d2a4-0534-4f1a-ea60-12f4c27d1756"
      },
      "source": [
        "plt.plot(data[\"Open\"],label=\"Open\")\n",
        "#plt.plot(data[\"Volume\"],label=\"High\")\n",
        "plt.legend(loc=\"best\")\n",
        "plt.title(Capitec.info['symbol'] + \" opening historical price\")\n",
        "plt.show()"
      ],
      "execution_count": 72,
      "outputs": [
        {
          "output_type": "display_data",
          "data": {
            "image/png": "[encoded data removed]",
            "text/plain": [
              "<Figure size 432x288 with 1 Axes>"
            ]
          },
          "metadata": {
            "tags": [],
            "needs_background": "light"
          }
        }
      ]
    },
    {
      "cell_type": "code",
      "metadata": {
        "id": "KtwpTXoHechL",
        "colab_type": "code",
        "colab": {
          "base_uri": "https://localhost:8080/",
          "height": 1000
        },
        "outputId": "cc258502-93a5-49b7-bbe1-1191aaad4638"
      },
      "source": [
        "# show actions (dividends, splits)\n",
        "Capitec.actions"
      ],
      "execution_count": 73,
      "outputs": [
        {
          "output_type": "execute_result",
          "data": {
            "text/html": [
              "<div>\n",
              "<style scoped>\n",
              "    .dataframe tbody tr th:only-of-type {\n",
              "        vertical-align: middle;\n",
              "    }\n",
              "\n",
              "    .dataframe tbody tr th {\n",
              "        vertical-align: top;\n",
              "    }\n",
              "\n",
              "    .dataframe thead th {\n",
              "        text-align: right;\n",
              "    }\n",
              "</style>\n",
              "<table border=\"1\" class=\"dataframe\">\n",
              "  <thead>\n",
              "    <tr style=\"text-align: right;\">\n",
              "      <th></th>\n",
              "      <th>Dividends</th>\n",
              "      <th>Stock Splits</th>\n",
              "    </tr>\n",
              "    <tr>\n",
              "      <th>Date</th>\n",
              "      <th></th>\n",
              "      <th></th>\n",
              "    </tr>\n",
              "  </thead>\n",
              "  <tbody>\n",
              "    <tr>\n",
              "      <th>2002-06-10</th>\n",
              "      <td>28.500</td>\n",
              "      <td>0.0</td>\n",
              "    </tr>\n",
              "    <tr>\n",
              "      <th>2003-06-09</th>\n",
              "      <td>19.000</td>\n",
              "      <td>0.0</td>\n",
              "    </tr>\n",
              "    <tr>\n",
              "      <th>2004-06-07</th>\n",
              "      <td>20.000</td>\n",
              "      <td>0.0</td>\n",
              "    </tr>\n",
              "    <tr>\n",
              "      <th>2005-06-06</th>\n",
              "      <td>30.000</td>\n",
              "      <td>0.0</td>\n",
              "    </tr>\n",
              "    <tr>\n",
              "      <th>2006-06-05</th>\n",
              "      <td>45.000</td>\n",
              "      <td>0.0</td>\n",
              "    </tr>\n",
              "    <tr>\n",
              "      <th>2006-11-27</th>\n",
              "      <td>20.000</td>\n",
              "      <td>0.0</td>\n",
              "    </tr>\n",
              "    <tr>\n",
              "      <th>2007-06-11</th>\n",
              "      <td>60.000</td>\n",
              "      <td>0.0</td>\n",
              "    </tr>\n",
              "    <tr>\n",
              "      <th>2007-11-26</th>\n",
              "      <td>25.000</td>\n",
              "      <td>0.0</td>\n",
              "    </tr>\n",
              "    <tr>\n",
              "      <th>2008-06-09</th>\n",
              "      <td>75.000</td>\n",
              "      <td>0.0</td>\n",
              "    </tr>\n",
              "    <tr>\n",
              "      <th>2008-11-24</th>\n",
              "      <td>30.000</td>\n",
              "      <td>0.0</td>\n",
              "    </tr>\n",
              "    <tr>\n",
              "      <th>2009-06-08</th>\n",
              "      <td>110.000</td>\n",
              "      <td>0.0</td>\n",
              "    </tr>\n",
              "    <tr>\n",
              "      <th>2009-11-30</th>\n",
              "      <td>55.000</td>\n",
              "      <td>0.0</td>\n",
              "    </tr>\n",
              "    <tr>\n",
              "      <th>2010-06-11</th>\n",
              "      <td>155.000</td>\n",
              "      <td>0.0</td>\n",
              "    </tr>\n",
              "    <tr>\n",
              "      <th>2010-11-29</th>\n",
              "      <td>85.000</td>\n",
              "      <td>0.0</td>\n",
              "    </tr>\n",
              "    <tr>\n",
              "      <th>2011-06-20</th>\n",
              "      <td>205.000</td>\n",
              "      <td>0.0</td>\n",
              "    </tr>\n",
              "    <tr>\n",
              "      <th>2011-11-28</th>\n",
              "      <td>125.000</td>\n",
              "      <td>0.0</td>\n",
              "    </tr>\n",
              "    <tr>\n",
              "      <th>2012-03-16</th>\n",
              "      <td>300.000</td>\n",
              "      <td>0.0</td>\n",
              "    </tr>\n",
              "    <tr>\n",
              "      <th>2012-10-15</th>\n",
              "      <td>163.655</td>\n",
              "      <td>0.0</td>\n",
              "    </tr>\n",
              "    <tr>\n",
              "      <th>2013-04-15</th>\n",
              "      <td>405.000</td>\n",
              "      <td>0.0</td>\n",
              "    </tr>\n",
              "    <tr>\n",
              "      <th>2013-10-14</th>\n",
              "      <td>203.000</td>\n",
              "      <td>0.0</td>\n",
              "    </tr>\n",
              "    <tr>\n",
              "      <th>2014-04-11</th>\n",
              "      <td>460.000</td>\n",
              "      <td>0.0</td>\n",
              "    </tr>\n",
              "    <tr>\n",
              "      <th>2014-10-20</th>\n",
              "      <td>246.000</td>\n",
              "      <td>0.0</td>\n",
              "    </tr>\n",
              "    <tr>\n",
              "      <th>2015-04-13</th>\n",
              "      <td>590.000</td>\n",
              "      <td>0.0</td>\n",
              "    </tr>\n",
              "    <tr>\n",
              "      <th>2015-10-19</th>\n",
              "      <td>375.000</td>\n",
              "      <td>0.0</td>\n",
              "    </tr>\n",
              "    <tr>\n",
              "      <th>2016-04-18</th>\n",
              "      <td>680.000</td>\n",
              "      <td>0.0</td>\n",
              "    </tr>\n",
              "    <tr>\n",
              "      <th>2016-10-12</th>\n",
              "      <td>450.000</td>\n",
              "      <td>0.0</td>\n",
              "    </tr>\n",
              "    <tr>\n",
              "      <th>2017-04-19</th>\n",
              "      <td>800.000</td>\n",
              "      <td>0.0</td>\n",
              "    </tr>\n",
              "    <tr>\n",
              "      <th>2017-10-18</th>\n",
              "      <td>525.000</td>\n",
              "      <td>0.0</td>\n",
              "    </tr>\n",
              "    <tr>\n",
              "      <th>2018-04-18</th>\n",
              "      <td>945.000</td>\n",
              "      <td>0.0</td>\n",
              "    </tr>\n",
              "    <tr>\n",
              "      <th>2018-10-17</th>\n",
              "      <td>630.000</td>\n",
              "      <td>0.0</td>\n",
              "    </tr>\n",
              "    <tr>\n",
              "      <th>2019-04-16</th>\n",
              "      <td>1120.000</td>\n",
              "      <td>0.0</td>\n",
              "    </tr>\n",
              "    <tr>\n",
              "      <th>2019-10-30</th>\n",
              "      <td>755.000</td>\n",
              "      <td>0.0</td>\n",
              "    </tr>\n",
              "  </tbody>\n",
              "</table>\n",
              "</div>"
            ],
            "text/plain": [
              "            Dividends  Stock Splits\n",
              "Date                               \n",
              "2002-06-10     28.500           0.0\n",
              "2003-06-09     19.000           0.0\n",
              "2004-06-07     20.000           0.0\n",
              "2005-06-06     30.000           0.0\n",
              "2006-06-05     45.000           0.0\n",
              "2006-11-27     20.000           0.0\n",
              "2007-06-11     60.000           0.0\n",
              "2007-11-26     25.000           0.0\n",
              "2008-06-09     75.000           0.0\n",
              "2008-11-24     30.000           0.0\n",
              "2009-06-08    110.000           0.0\n",
              "2009-11-30     55.000           0.0\n",
              "2010-06-11    155.000           0.0\n",
              "2010-11-29     85.000           0.0\n",
              "2011-06-20    205.000           0.0\n",
              "2011-11-28    125.000           0.0\n",
              "2012-03-16    300.000           0.0\n",
              "2012-10-15    163.655           0.0\n",
              "2013-04-15    405.000           0.0\n",
              "2013-10-14    203.000           0.0\n",
              "2014-04-11    460.000           0.0\n",
              "2014-10-20    246.000           0.0\n",
              "2015-04-13    590.000           0.0\n",
              "2015-10-19    375.000           0.0\n",
              "2016-04-18    680.000           0.0\n",
              "2016-10-12    450.000           0.0\n",
              "2017-04-19    800.000           0.0\n",
              "2017-10-18    525.000           0.0\n",
              "2018-04-18    945.000           0.0\n",
              "2018-10-17    630.000           0.0\n",
              "2019-04-16   1120.000           0.0\n",
              "2019-10-30    755.000           0.0"
            ]
          },
          "metadata": {
            "tags": []
          },
          "execution_count": 73
        }
      ]
    },
    {
      "cell_type": "code",
      "metadata": {
        "id": "FBwhgmkBkf7A",
        "colab_type": "code",
        "colab": {
          "base_uri": "https://localhost:8080/",
          "height": 281
        },
        "outputId": "fd6dfccb-d6c1-4ef6-fcc8-68e6db6fda33"
      },
      "source": [
        "# plot dividends\n",
        "plt.plot(Capitec.dividends, label=\"Dividends\" )\n",
        "plt.legend(loc=\"best\")\n",
        "plt.title(Capitec.info['symbol'] + \" historical dividends\")\n",
        "plt.show()"
      ],
      "execution_count": 75,
      "outputs": [
        {
          "output_type": "display_data",
          "data": {
            "image/png": "[encoded data removed]",
            "text/plain": [
              "<Figure size 432x288 with 1 Axes>"
            ]
          },
          "metadata": {
            "tags": [],
            "needs_background": "light"
          }
        }
      ]
    },
    {
      "cell_type": "code",
      "metadata": {
        "id": "DuXruOX3nL26",
        "colab_type": "code",
        "colab": {
          "base_uri": "https://localhost:8080/",
          "height": 76
        },
        "outputId": "0606fe0d-8da6-468a-9a6f-13f478d73a0e"
      },
      "source": [
        "Capitec.balance_sheet"
      ],
      "execution_count": 81,
      "outputs": [
        {
          "output_type": "execute_result",
          "data": {
            "text/html": [
              "<div>\n",
              "<style scoped>\n",
              "    .dataframe tbody tr th:only-of-type {\n",
              "        vertical-align: middle;\n",
              "    }\n",
              "\n",
              "    .dataframe tbody tr th {\n",
              "        vertical-align: top;\n",
              "    }\n",
              "\n",
              "    .dataframe thead th {\n",
              "        text-align: right;\n",
              "    }\n",
              "</style>\n",
              "<table border=\"1\" class=\"dataframe\">\n",
              "  <thead>\n",
              "    <tr style=\"text-align: right;\">\n",
              "      <th></th>\n",
              "      <th>Open</th>\n",
              "      <th>High</th>\n",
              "      <th>Low</th>\n",
              "      <th>Close</th>\n",
              "      <th>Adj Close</th>\n",
              "      <th>Volume</th>\n",
              "    </tr>\n",
              "    <tr>\n",
              "      <th>Date</th>\n",
              "      <th></th>\n",
              "      <th></th>\n",
              "      <th></th>\n",
              "      <th></th>\n",
              "      <th></th>\n",
              "      <th></th>\n",
              "    </tr>\n",
              "  </thead>\n",
              "  <tbody>\n",
              "  </tbody>\n",
              "</table>\n",
              "</div>"
            ],
            "text/plain": [
              "Empty DataFrame\n",
              "Columns: [Open, High, Low, Close, Adj Close, Volume]\n",
              "Index: []"
            ]
          },
          "metadata": {
            "tags": []
          },
          "execution_count": 81
        }
      ]
    },
    {
      "cell_type": "markdown",
      "metadata": {
        "id": "fa1WZpZHmy6b",
        "colab_type": "text"
      },
      "source": [
        "Already, we have found a problem with using <code>yfinance</code> API in order to import financial data. Since it cannot show the financials of Capitec, a well known bank in South Africa. I suggest using a different API in order to find the oh so coverted financial data . It was good fun learning so far though. For more on <code>yfinance</code> i suggest seeing [Reliably download historical market data from Yahoo! Finance with Python](https://aroussi.com/post/python-yahoo-finance) and [Awesome open source: yfinance](https://awesomeopensource.com/project/ranaroussi/yfinance). \n",
        "\n",
        "#### Conclusion \n",
        "The authour of the API **Ran Aroussi** really created a great API that imports data well and works fast in python. We did run into some problems trying to get certain data that would be crucial towards analysis of a security which led to the conclusion that the API needs more improvement and may not be the best open-source way to import financial data into python. We ended the analysis prematurely as this method may not be applied in African markets."
      ]
    }
  ]
}
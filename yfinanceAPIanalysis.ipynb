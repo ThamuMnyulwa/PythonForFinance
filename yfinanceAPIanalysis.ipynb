{
 "cells": [
  {
   "cell_type": "markdown",
   "metadata": {
    "colab_type": "text",
    "id": "4PCSfpJaNeqX"
   },
   "source": [
    "#### Exploring sourcing financial data from Yahoo Finance using yfinance API \n",
    "\n",
    "Author: Thamu Mnyulwa\n",
    "\n",
    "Last Updated: 16/04/2020 03:00am"
   ]
  },
  {
   "cell_type": "markdown",
   "metadata": {
    "colab_type": "text",
    "id": "nKuCIiRbN5Oq"
   },
   "source": [
    "A common problem for quantitative finance enthusiasts is finding data, particularly since many API's such as **eikon** require a large financial investment. Many open-source Python API's are available for finding financial data. The question was whether we could find one that performs this function for companies in South Africa, on the JSE. In this particular notebook we try <code>yfinance</code> API developed by [Ran Aroussi](https://github.com/ranaroussi) in an attempt to replicate the [Yahoo! finance](https://finance.yahoo.com/) API to import data directly into python which was discontinued.\n",
    "\n",
    "* [yfinance official documentation](https://pypi.org/project/yfinance/) \n",
    "* [What is yfinance? Blog post](https://aroussi.com/post/python-yahoo-finance) \n",
    "* [Ran Aroussi's Github on yfinance](https://github.com/ranaroussi) \n",
    "\n",
    "---\n",
    "\n",
    "**yfinance** API can import financial data, by webscrapping yahoo finance. It is installed as shown below.\n",
    "\n",
    "##### Importing yfinance\n",
    "\n",
    "```Python\n",
    "#!setup.py install\n",
    "#!pip install  yfinance\n",
    "\n",
    "import yfinance as yf\n",
    "```\n",
    "[Requirements:](https://github.com/ranaroussi/yfinance)\n",
    "\n",
    "* Python >= 2.7, 3.4+\n",
    "* Pandas\n",
    "* Numpy\n",
    "* requests"
   ]
  },
  {
   "cell_type": "code",
   "execution_count": 1,
   "metadata": {
    "colab": {},
    "colab_type": "code",
    "id": "wVLUym4KN2Ch"
   },
   "outputs": [],
   "source": [
    "#Preamble,\n",
    "#!setup.py install\n",
    "#!pip install  yfinance\n",
    "#!pip install requests\n",
    "\n",
    "import yfinance as yf\n",
    "import pandas as pd\n",
    "import matplotlib.pyplot as plt\n",
    "import numpy as np"
   ]
  },
  {
   "cell_type": "markdown",
   "metadata": {
    "colab_type": "text",
    "id": "essIV6gERITO"
   },
   "source": [
    "The <code>Tickers()</code> module allows you to call on a particular security and collect both **market** (**structured data** such as \"historical price\") and **meta data** (**unstructured data** such as news/some text).\n",
    "##### Using Tickes module on a single security\n"
   ]
  },
  {
   "cell_type": "code",
   "execution_count": 2,
   "metadata": {
    "colab": {
     "base_uri": "https://localhost:8080/",
     "height": 35
    },
    "colab_type": "code",
    "id": "-M9OGS3MRJF0",
    "outputId": "68b041e4-6645-47e6-8089-0548cb89ff57"
   },
   "outputs": [
    {
     "name": "stdout",
     "output_type": "stream",
     "text": [
      "yfinance.Ticker object <CPI.JO>\n"
     ]
    }
   ],
   "source": [
    "# Initialize Ticker objects \" Change the ticker Symbol to\"\n",
    "Capitec = yf.Ticker('CPI.JO')\n",
    "#Return the ticker object\n",
    "print(Capitec)"
   ]
  },
  {
   "cell_type": "code",
   "execution_count": 3,
   "metadata": {
    "colab": {
     "base_uri": "https://localhost:8080/",
     "height": 1000
    },
    "colab_type": "code",
    "id": "U30rpF8WR1BC",
    "outputId": "5ba4965c-ac3e-4082-9917-0b548326be34"
   },
   "outputs": [
    {
     "data": {
      "text/plain": [
       "{'zip': '7600',\n",
       " 'sector': 'Financial Services',\n",
       " 'fullTimeEmployees': 14590,\n",
       " 'longBusinessSummary': 'Capitec Bank Holdings Limited, through its subsidiaries, provides various retail banking products and services in South Africa. The company offers various deposits products, including transaction and savings accounts; and credit facilities, credit cards, home loans, and personal term loans. It also provides point-of-sale payment solutions, salary transfer, workplace banking, Internet banking, and mobile banking services. As of February 2019, it operated approximately 840 branches and 5,011 ATMs. Capitec Bank Holdings Limited was incorporated in 1999 and is based in Stellenbosch, South Africa.',\n",
       " 'city': 'Stellenbosch',\n",
       " 'phone': '27 21 809 5900',\n",
       " 'country': 'South Africa',\n",
       " 'companyOfficers': [],\n",
       " 'website': 'http://www.capitecbank.co.za',\n",
       " 'maxAge': 1,\n",
       " 'address1': '1 Quantum Street',\n",
       " 'fax': '27 21 880 1207',\n",
       " 'industry': 'Banks—Regional',\n",
       " 'address2': 'Techno Park',\n",
       " 'previousClose': 105775,\n",
       " 'regularMarketOpen': 105774,\n",
       " 'twoHundredDayAverage': 132755.58,\n",
       " 'trailingAnnualDividendYield': 7.137793e-05,\n",
       " 'payoutRatio': 0.3508,\n",
       " 'volume24Hr': None,\n",
       " 'regularMarketDayHigh': 105774,\n",
       " 'navPrice': None,\n",
       " 'averageDailyVolume10Day': 269511,\n",
       " 'totalAssets': None,\n",
       " 'regularMarketPreviousClose': 105775,\n",
       " 'fiftyDayAverage': 110118.86,\n",
       " 'trailingAnnualDividendRate': 7.55,\n",
       " 'open': 105774,\n",
       " 'toCurrency': None,\n",
       " 'averageVolume10days': 269511,\n",
       " 'expireDate': None,\n",
       " 'yield': None,\n",
       " 'algorithm': None,\n",
       " 'dividendRate': 18.75,\n",
       " 'exDividendDate': 1572393600,\n",
       " 'beta': 0.870392,\n",
       " 'circulatingSupply': None,\n",
       " 'startDate': None,\n",
       " 'regularMarketDayLow': 96000,\n",
       " 'priceHint': 2,\n",
       " 'currency': 'ZAc',\n",
       " 'trailingPE': 1782.3966,\n",
       " 'regularMarketVolume': 673798,\n",
       " 'lastMarket': None,\n",
       " 'maxSupply': None,\n",
       " 'openInterest': None,\n",
       " 'marketCap': 111104827392,\n",
       " 'volumeAllCurrencies': None,\n",
       " 'strikePrice': None,\n",
       " 'averageVolume': 379608,\n",
       " 'priceToSalesTrailing12Months': 6.688753,\n",
       " 'dayLow': 96000,\n",
       " 'ask': 100000,\n",
       " 'ytdReturn': None,\n",
       " 'askSize': None,\n",
       " 'volume': 673798,\n",
       " 'fiftyTwoWeekHigh': 149756,\n",
       " 'forwardPE': None,\n",
       " 'fromCurrency': None,\n",
       " 'fiveYearAvgDividendYield': 1.56,\n",
       " 'fiftyTwoWeekLow': 53986,\n",
       " 'bid': 96000,\n",
       " 'tradeable': False,\n",
       " 'dividendYield': 0.0177,\n",
       " 'bidSize': None,\n",
       " 'dayHigh': 105774,\n",
       " 'exchange': 'JNB',\n",
       " 'shortName': 'Capitec Bank Hldgs Ltd',\n",
       " 'longName': 'Capitec Bank Holdings Limited',\n",
       " 'exchangeTimezoneName': 'Africa/Johannesburg',\n",
       " 'exchangeTimezoneShortName': 'SAST',\n",
       " 'isEsgPopulated': False,\n",
       " 'gmtOffSetMilliseconds': '7200000',\n",
       " 'quoteType': 'EQUITY',\n",
       " 'symbol': 'CPI.JO',\n",
       " 'messageBoardId': 'finmb_7687718',\n",
       " 'market': 'za_market',\n",
       " 'annualHoldingsTurnover': None,\n",
       " 'enterpriseToRevenue': 5.325,\n",
       " 'beta3Year': None,\n",
       " 'profitMargins': 0.37633,\n",
       " 'enterpriseToEbitda': None,\n",
       " '52WeekChange': -0.23988104,\n",
       " 'morningStarRiskRating': None,\n",
       " 'forwardEps': None,\n",
       " 'revenueQuarterlyGrowth': None,\n",
       " 'sharesOutstanding': 115627000,\n",
       " 'fundInceptionDate': None,\n",
       " 'annualReportExpenseRatio': None,\n",
       " 'bookValue': 220.604,\n",
       " 'sharesShort': None,\n",
       " 'sharesPercentSharesOut': None,\n",
       " 'fundFamily': None,\n",
       " 'lastFiscalYearEnd': 1582934400,\n",
       " 'heldPercentInstitutions': None,\n",
       " 'netIncomeToCommon': 6243305984,\n",
       " 'trailingEps': 53.91,\n",
       " 'lastDividendValue': None,\n",
       " 'SandP52WeekChange': -0.018752217,\n",
       " 'priceToBook': 435.57233,\n",
       " 'heldPercentInsiders': None,\n",
       " 'nextFiscalYearEnd': 1646092800,\n",
       " 'mostRecentQuarter': 1582934400,\n",
       " 'shortRatio': None,\n",
       " 'sharesShortPreviousMonthDate': None,\n",
       " 'floatShares': 56945137,\n",
       " 'enterpriseValue': 88453996544,\n",
       " 'threeYearAverageReturn': None,\n",
       " 'lastSplitDate': None,\n",
       " 'lastSplitFactor': None,\n",
       " 'legalType': None,\n",
       " 'morningStarOverallRating': None,\n",
       " 'earningsQuarterlyGrowth': 0.163,\n",
       " 'dateShortInterest': None,\n",
       " 'pegRatio': None,\n",
       " 'lastCapGain': None,\n",
       " 'shortPercentOfFloat': None,\n",
       " 'sharesShortPriorMonth': None,\n",
       " 'category': None,\n",
       " 'fiveYearAverageReturn': None,\n",
       " 'regularMarketPrice': 105774,\n",
       " 'logo_url': 'https://logo.clearbit.com/capitecbank.co.za'}"
      ]
     },
     "execution_count": 3,
     "metadata": {},
     "output_type": "execute_result"
    }
   ],
   "source": [
    "# Get the security info \"yf.Ticker(\"MSFT\").info\" .info module\n",
    "Capitec.info"
   ]
  },
  {
   "cell_type": "code",
   "execution_count": 8,
   "metadata": {
    "colab": {
     "base_uri": "https://localhost:8080/",
     "height": 35
    },
    "colab_type": "code",
    "id": "qR7FvoUAff5c",
    "outputId": "19dc99b2-17c4-424e-9b98-c01b94ac0ea3"
   },
   "outputs": [
    {
     "data": {
      "text/plain": [
       "'CPI.JO'"
      ]
     },
     "execution_count": 8,
     "metadata": {},
     "output_type": "execute_result"
    }
   ],
   "source": [
    "# Ticker Symbol\n",
    "Capitec.info['symbol'] "
   ]
  },
  {
   "cell_type": "code",
   "execution_count": 9,
   "metadata": {
    "colab": {
     "base_uri": "https://localhost:8080/",
     "height": 35
    },
    "colab_type": "code",
    "id": "I5rCnfQzncGQ",
    "outputId": "e4c60d93-13aa-4528-8d32-27e8f99ecd76"
   },
   "outputs": [
    {
     "data": {
      "text/plain": [
       "'EQUITY'"
      ]
     },
     "execution_count": 9,
     "metadata": {},
     "output_type": "execute_result"
    }
   ],
   "source": [
    "# Security Type\n",
    "Capitec.info['quoteType'] "
   ]
  },
  {
   "cell_type": "code",
   "execution_count": 10,
   "metadata": {
    "colab": {
     "base_uri": "https://localhost:8080/",
     "height": 223
    },
    "colab_type": "code",
    "id": "sUfDoIzLSxFM",
    "outputId": "454a4dc4-e03d-4de8-82c9-5c85c9333dea"
   },
   "outputs": [
    {
     "data": {
      "text/html": [
       "<div>\n",
       "<style scoped>\n",
       "    .dataframe tbody tr th:only-of-type {\n",
       "        vertical-align: middle;\n",
       "    }\n",
       "\n",
       "    .dataframe tbody tr th {\n",
       "        vertical-align: top;\n",
       "    }\n",
       "\n",
       "    .dataframe thead th {\n",
       "        text-align: right;\n",
       "    }\n",
       "</style>\n",
       "<table border=\"1\" class=\"dataframe\">\n",
       "  <thead>\n",
       "    <tr style=\"text-align: right;\">\n",
       "      <th></th>\n",
       "      <th>Open</th>\n",
       "      <th>High</th>\n",
       "      <th>Low</th>\n",
       "      <th>Close</th>\n",
       "      <th>Volume</th>\n",
       "      <th>Dividends</th>\n",
       "      <th>Stock Splits</th>\n",
       "    </tr>\n",
       "    <tr>\n",
       "      <th>Date</th>\n",
       "      <th></th>\n",
       "      <th></th>\n",
       "      <th></th>\n",
       "      <th></th>\n",
       "      <th></th>\n",
       "      <th></th>\n",
       "      <th></th>\n",
       "    </tr>\n",
       "  </thead>\n",
       "  <tbody>\n",
       "    <tr>\n",
       "      <th>2002-02-19</th>\n",
       "      <td>91.71</td>\n",
       "      <td>91.71</td>\n",
       "      <td>70.31</td>\n",
       "      <td>78.97</td>\n",
       "      <td>142376</td>\n",
       "      <td>0.0</td>\n",
       "      <td>0</td>\n",
       "    </tr>\n",
       "    <tr>\n",
       "      <th>2002-02-20</th>\n",
       "      <td>75.41</td>\n",
       "      <td>75.41</td>\n",
       "      <td>75.41</td>\n",
       "      <td>75.41</td>\n",
       "      <td>103</td>\n",
       "      <td>0.0</td>\n",
       "      <td>0</td>\n",
       "    </tr>\n",
       "    <tr>\n",
       "      <th>2002-02-21</th>\n",
       "      <td>75.41</td>\n",
       "      <td>75.41</td>\n",
       "      <td>61.14</td>\n",
       "      <td>61.14</td>\n",
       "      <td>170840</td>\n",
       "      <td>0.0</td>\n",
       "      <td>0</td>\n",
       "    </tr>\n",
       "    <tr>\n",
       "      <th>2002-02-22</th>\n",
       "      <td>61.14</td>\n",
       "      <td>62.16</td>\n",
       "      <td>61.14</td>\n",
       "      <td>61.14</td>\n",
       "      <td>1393434</td>\n",
       "      <td>0.0</td>\n",
       "      <td>0</td>\n",
       "    </tr>\n",
       "    <tr>\n",
       "      <th>2002-02-25</th>\n",
       "      <td>61.14</td>\n",
       "      <td>62.16</td>\n",
       "      <td>56.05</td>\n",
       "      <td>56.05</td>\n",
       "      <td>280677</td>\n",
       "      <td>0.0</td>\n",
       "      <td>0</td>\n",
       "    </tr>\n",
       "  </tbody>\n",
       "</table>\n",
       "</div>"
      ],
      "text/plain": [
       "             Open   High    Low  Close   Volume  Dividends  Stock Splits\n",
       "Date                                                                    \n",
       "2002-02-19  91.71  91.71  70.31  78.97   142376        0.0             0\n",
       "2002-02-20  75.41  75.41  75.41  75.41      103        0.0             0\n",
       "2002-02-21  75.41  75.41  61.14  61.14   170840        0.0             0\n",
       "2002-02-22  61.14  62.16  61.14  61.14  1393434        0.0             0\n",
       "2002-02-25  61.14  62.16  56.05  56.05   280677        0.0             0"
      ]
     },
     "execution_count": 10,
     "metadata": {},
     "output_type": "execute_result"
    }
   ],
   "source": [
    "# get historical market data\n",
    "data = Capitec.history(period=\"max\")\n",
    "data.head()"
   ]
  },
  {
   "cell_type": "code",
   "execution_count": 10,
   "metadata": {
    "colab": {
     "base_uri": "https://localhost:8080/",
     "height": 223
    },
    "colab_type": "code",
    "id": "EuU4gOF3d3Ou",
    "outputId": "5491b028-4ff2-4fa7-e899-09f0198923e1"
   },
   "outputs": [
    {
     "data": {
      "text/html": [
       "<div>\n",
       "<style scoped>\n",
       "    .dataframe tbody tr th:only-of-type {\n",
       "        vertical-align: middle;\n",
       "    }\n",
       "\n",
       "    .dataframe tbody tr th {\n",
       "        vertical-align: top;\n",
       "    }\n",
       "\n",
       "    .dataframe thead th {\n",
       "        text-align: right;\n",
       "    }\n",
       "</style>\n",
       "<table border=\"1\" class=\"dataframe\">\n",
       "  <thead>\n",
       "    <tr style=\"text-align: right;\">\n",
       "      <th></th>\n",
       "      <th>Open</th>\n",
       "      <th>High</th>\n",
       "      <th>Low</th>\n",
       "      <th>Close</th>\n",
       "      <th>Volume</th>\n",
       "      <th>Dividends</th>\n",
       "      <th>Stock Splits</th>\n",
       "    </tr>\n",
       "    <tr>\n",
       "      <th>Date</th>\n",
       "      <th></th>\n",
       "      <th></th>\n",
       "      <th></th>\n",
       "      <th></th>\n",
       "      <th></th>\n",
       "      <th></th>\n",
       "      <th></th>\n",
       "    </tr>\n",
       "  </thead>\n",
       "  <tbody>\n",
       "    <tr>\n",
       "      <th>2020-04-07</th>\n",
       "      <td>101800.0</td>\n",
       "      <td>118431.0</td>\n",
       "      <td>100250.0</td>\n",
       "      <td>108500.0</td>\n",
       "      <td>443467</td>\n",
       "      <td>0.0</td>\n",
       "      <td>0</td>\n",
       "    </tr>\n",
       "    <tr>\n",
       "      <th>2020-04-08</th>\n",
       "      <td>108500.0</td>\n",
       "      <td>108483.0</td>\n",
       "      <td>100000.0</td>\n",
       "      <td>102470.0</td>\n",
       "      <td>410980</td>\n",
       "      <td>0.0</td>\n",
       "      <td>0</td>\n",
       "    </tr>\n",
       "    <tr>\n",
       "      <th>2020-04-09</th>\n",
       "      <td>105200.0</td>\n",
       "      <td>108000.0</td>\n",
       "      <td>101812.0</td>\n",
       "      <td>107100.0</td>\n",
       "      <td>263414</td>\n",
       "      <td>0.0</td>\n",
       "      <td>0</td>\n",
       "    </tr>\n",
       "    <tr>\n",
       "      <th>2020-04-14</th>\n",
       "      <td>108113.0</td>\n",
       "      <td>109943.0</td>\n",
       "      <td>102500.0</td>\n",
       "      <td>105775.0</td>\n",
       "      <td>363324</td>\n",
       "      <td>0.0</td>\n",
       "      <td>0</td>\n",
       "    </tr>\n",
       "    <tr>\n",
       "      <th>2020-04-15</th>\n",
       "      <td>105774.0</td>\n",
       "      <td>105774.0</td>\n",
       "      <td>96000.0</td>\n",
       "      <td>96089.0</td>\n",
       "      <td>673798</td>\n",
       "      <td>0.0</td>\n",
       "      <td>0</td>\n",
       "    </tr>\n",
       "  </tbody>\n",
       "</table>\n",
       "</div>"
      ],
      "text/plain": [
       "                Open      High       Low     Close  Volume  Dividends  \\\n",
       "Date                                                                    \n",
       "2020-04-07  101800.0  118431.0  100250.0  108500.0  443467        0.0   \n",
       "2020-04-08  108500.0  108483.0  100000.0  102470.0  410980        0.0   \n",
       "2020-04-09  105200.0  108000.0  101812.0  107100.0  263414        0.0   \n",
       "2020-04-14  108113.0  109943.0  102500.0  105775.0  363324        0.0   \n",
       "2020-04-15  105774.0  105774.0   96000.0   96089.0  673798        0.0   \n",
       "\n",
       "            Stock Splits  \n",
       "Date                      \n",
       "2020-04-07             0  \n",
       "2020-04-08             0  \n",
       "2020-04-09             0  \n",
       "2020-04-14             0  \n",
       "2020-04-15             0  "
      ]
     },
     "execution_count": 10,
     "metadata": {},
     "output_type": "execute_result"
    }
   ],
   "source": [
    "data.tail()"
   ]
  },
  {
   "cell_type": "markdown",
   "metadata": {},
   "source": [
    "The data seems to agree with the data on [Yahoo! finance for CPI.JO](https://finance.yahoo.com/quote/NLY/history?p=NLY)."
   ]
  },
  {
   "cell_type": "code",
   "execution_count": 12,
   "metadata": {
    "colab": {
     "base_uri": "https://localhost:8080/",
     "height": 281
    },
    "colab_type": "code",
    "id": "a0ywaB2-eMQV",
    "outputId": "0350d2a4-0534-4f1a-ea60-12f4c27d1756"
   },
   "outputs": [
    {
     "data": {
      "image/png": "[encoded data removed]",
      "text/plain": [
       "<Figure size 432x288 with 1 Axes>"
      ]
     },
     "metadata": {
      "needs_background": "light"
     },
     "output_type": "display_data"
    }
   ],
   "source": [
    "# Plot the historical opening price\n",
    "plt.plot(data[\"Open\"],label=\"Open\")\n",
    "#plt.plot(data[\"Volume\"],label=\"High\")\n",
    "plt.legend(loc=\"best\")\n",
    "plt.xlabel(\"Price\")\n",
    "plt.xlabel(\"Year\")\n",
    "plt.title(Capitec.info['symbol'] + \" Historical Daily opening  price\")\n",
    "plt.show()"
   ]
  },
  {
   "cell_type": "code",
   "execution_count": 13,
   "metadata": {},
   "outputs": [
    {
     "data": {
      "image/png": "[encoded data removed]",
      "text/plain": [
       "<Figure size 432x288 with 1 Axes>"
      ]
     },
     "metadata": {
      "needs_background": "light"
     },
     "output_type": "display_data"
    }
   ],
   "source": [
    "# Plot the Trading Volume\n",
    "plt.plot(data[\"Volume\"],label=\"High\")\n",
    "plt.legend(loc=\"best\")\n",
    "plt.xlabel(\"\")\n",
    "plt.xlabel(\"Year\")\n",
    "plt.title(Capitec.info['symbol'] + \"Daily Trading Volume\")\n",
    "plt.show()"
   ]
  },
  {
   "cell_type": "code",
   "execution_count": 14,
   "metadata": {
    "colab": {
     "base_uri": "https://localhost:8080/",
     "height": 1000
    },
    "colab_type": "code",
    "id": "KtwpTXoHechL",
    "outputId": "cc258502-93a5-49b7-bbe1-1191aaad4638"
   },
   "outputs": [
    {
     "data": {
      "text/html": [
       "<div>\n",
       "<style scoped>\n",
       "    .dataframe tbody tr th:only-of-type {\n",
       "        vertical-align: middle;\n",
       "    }\n",
       "\n",
       "    .dataframe tbody tr th {\n",
       "        vertical-align: top;\n",
       "    }\n",
       "\n",
       "    .dataframe thead th {\n",
       "        text-align: right;\n",
       "    }\n",
       "</style>\n",
       "<table border=\"1\" class=\"dataframe\">\n",
       "  <thead>\n",
       "    <tr style=\"text-align: right;\">\n",
       "      <th></th>\n",
       "      <th>Dividends</th>\n",
       "      <th>Stock Splits</th>\n",
       "    </tr>\n",
       "    <tr>\n",
       "      <th>Date</th>\n",
       "      <th></th>\n",
       "      <th></th>\n",
       "    </tr>\n",
       "  </thead>\n",
       "  <tbody>\n",
       "    <tr>\n",
       "      <th>2002-06-10</th>\n",
       "      <td>28.500</td>\n",
       "      <td>0.0</td>\n",
       "    </tr>\n",
       "    <tr>\n",
       "      <th>2003-06-09</th>\n",
       "      <td>19.000</td>\n",
       "      <td>0.0</td>\n",
       "    </tr>\n",
       "    <tr>\n",
       "      <th>2004-06-07</th>\n",
       "      <td>20.000</td>\n",
       "      <td>0.0</td>\n",
       "    </tr>\n",
       "    <tr>\n",
       "      <th>2005-06-06</th>\n",
       "      <td>30.000</td>\n",
       "      <td>0.0</td>\n",
       "    </tr>\n",
       "    <tr>\n",
       "      <th>2006-06-05</th>\n",
       "      <td>45.000</td>\n",
       "      <td>0.0</td>\n",
       "    </tr>\n",
       "    <tr>\n",
       "      <th>2006-11-27</th>\n",
       "      <td>20.000</td>\n",
       "      <td>0.0</td>\n",
       "    </tr>\n",
       "    <tr>\n",
       "      <th>2007-06-11</th>\n",
       "      <td>60.000</td>\n",
       "      <td>0.0</td>\n",
       "    </tr>\n",
       "    <tr>\n",
       "      <th>2007-11-26</th>\n",
       "      <td>25.000</td>\n",
       "      <td>0.0</td>\n",
       "    </tr>\n",
       "    <tr>\n",
       "      <th>2008-06-09</th>\n",
       "      <td>75.000</td>\n",
       "      <td>0.0</td>\n",
       "    </tr>\n",
       "    <tr>\n",
       "      <th>2008-11-24</th>\n",
       "      <td>30.000</td>\n",
       "      <td>0.0</td>\n",
       "    </tr>\n",
       "    <tr>\n",
       "      <th>2009-06-08</th>\n",
       "      <td>110.000</td>\n",
       "      <td>0.0</td>\n",
       "    </tr>\n",
       "    <tr>\n",
       "      <th>2009-11-30</th>\n",
       "      <td>55.000</td>\n",
       "      <td>0.0</td>\n",
       "    </tr>\n",
       "    <tr>\n",
       "      <th>2010-06-11</th>\n",
       "      <td>155.000</td>\n",
       "      <td>0.0</td>\n",
       "    </tr>\n",
       "    <tr>\n",
       "      <th>2010-11-29</th>\n",
       "      <td>85.000</td>\n",
       "      <td>0.0</td>\n",
       "    </tr>\n",
       "    <tr>\n",
       "      <th>2011-06-20</th>\n",
       "      <td>205.000</td>\n",
       "      <td>0.0</td>\n",
       "    </tr>\n",
       "    <tr>\n",
       "      <th>2011-11-28</th>\n",
       "      <td>125.000</td>\n",
       "      <td>0.0</td>\n",
       "    </tr>\n",
       "    <tr>\n",
       "      <th>2012-03-16</th>\n",
       "      <td>300.000</td>\n",
       "      <td>0.0</td>\n",
       "    </tr>\n",
       "    <tr>\n",
       "      <th>2012-10-15</th>\n",
       "      <td>163.655</td>\n",
       "      <td>0.0</td>\n",
       "    </tr>\n",
       "    <tr>\n",
       "      <th>2013-04-15</th>\n",
       "      <td>405.000</td>\n",
       "      <td>0.0</td>\n",
       "    </tr>\n",
       "    <tr>\n",
       "      <th>2013-10-14</th>\n",
       "      <td>203.000</td>\n",
       "      <td>0.0</td>\n",
       "    </tr>\n",
       "    <tr>\n",
       "      <th>2014-04-11</th>\n",
       "      <td>460.000</td>\n",
       "      <td>0.0</td>\n",
       "    </tr>\n",
       "    <tr>\n",
       "      <th>2014-10-20</th>\n",
       "      <td>246.000</td>\n",
       "      <td>0.0</td>\n",
       "    </tr>\n",
       "    <tr>\n",
       "      <th>2015-04-13</th>\n",
       "      <td>590.000</td>\n",
       "      <td>0.0</td>\n",
       "    </tr>\n",
       "    <tr>\n",
       "      <th>2015-10-19</th>\n",
       "      <td>375.000</td>\n",
       "      <td>0.0</td>\n",
       "    </tr>\n",
       "    <tr>\n",
       "      <th>2016-04-18</th>\n",
       "      <td>680.000</td>\n",
       "      <td>0.0</td>\n",
       "    </tr>\n",
       "    <tr>\n",
       "      <th>2016-10-12</th>\n",
       "      <td>450.000</td>\n",
       "      <td>0.0</td>\n",
       "    </tr>\n",
       "    <tr>\n",
       "      <th>2017-04-19</th>\n",
       "      <td>800.000</td>\n",
       "      <td>0.0</td>\n",
       "    </tr>\n",
       "    <tr>\n",
       "      <th>2017-10-18</th>\n",
       "      <td>525.000</td>\n",
       "      <td>0.0</td>\n",
       "    </tr>\n",
       "    <tr>\n",
       "      <th>2018-04-18</th>\n",
       "      <td>945.000</td>\n",
       "      <td>0.0</td>\n",
       "    </tr>\n",
       "    <tr>\n",
       "      <th>2018-10-17</th>\n",
       "      <td>630.000</td>\n",
       "      <td>0.0</td>\n",
       "    </tr>\n",
       "    <tr>\n",
       "      <th>2019-04-16</th>\n",
       "      <td>1120.000</td>\n",
       "      <td>0.0</td>\n",
       "    </tr>\n",
       "    <tr>\n",
       "      <th>2019-10-30</th>\n",
       "      <td>755.000</td>\n",
       "      <td>0.0</td>\n",
       "    </tr>\n",
       "  </tbody>\n",
       "</table>\n",
       "</div>"
      ],
      "text/plain": [
       "            Dividends  Stock Splits\n",
       "Date                               \n",
       "2002-06-10     28.500           0.0\n",
       "2003-06-09     19.000           0.0\n",
       "2004-06-07     20.000           0.0\n",
       "2005-06-06     30.000           0.0\n",
       "2006-06-05     45.000           0.0\n",
       "2006-11-27     20.000           0.0\n",
       "2007-06-11     60.000           0.0\n",
       "2007-11-26     25.000           0.0\n",
       "2008-06-09     75.000           0.0\n",
       "2008-11-24     30.000           0.0\n",
       "2009-06-08    110.000           0.0\n",
       "2009-11-30     55.000           0.0\n",
       "2010-06-11    155.000           0.0\n",
       "2010-11-29     85.000           0.0\n",
       "2011-06-20    205.000           0.0\n",
       "2011-11-28    125.000           0.0\n",
       "2012-03-16    300.000           0.0\n",
       "2012-10-15    163.655           0.0\n",
       "2013-04-15    405.000           0.0\n",
       "2013-10-14    203.000           0.0\n",
       "2014-04-11    460.000           0.0\n",
       "2014-10-20    246.000           0.0\n",
       "2015-04-13    590.000           0.0\n",
       "2015-10-19    375.000           0.0\n",
       "2016-04-18    680.000           0.0\n",
       "2016-10-12    450.000           0.0\n",
       "2017-04-19    800.000           0.0\n",
       "2017-10-18    525.000           0.0\n",
       "2018-04-18    945.000           0.0\n",
       "2018-10-17    630.000           0.0\n",
       "2019-04-16   1120.000           0.0\n",
       "2019-10-30    755.000           0.0"
      ]
     },
     "execution_count": 14,
     "metadata": {},
     "output_type": "execute_result"
    }
   ],
   "source": [
    "# show actions (dividends, splits)\n",
    "Capitec.actions"
   ]
  },
  {
   "cell_type": "code",
   "execution_count": 15,
   "metadata": {
    "colab": {
     "base_uri": "https://localhost:8080/",
     "height": 281
    },
    "colab_type": "code",
    "id": "FBwhgmkBkf7A",
    "outputId": "fd6dfccb-d6c1-4ef6-fcc8-68e6db6fda33"
   },
   "outputs": [
    {
     "data": {
      "image/png": "[encoded data removed]",
      "text/plain": [
       "<Figure size 432x288 with 1 Axes>"
      ]
     },
     "metadata": {
      "needs_background": "light"
     },
     "output_type": "display_data"
    }
   ],
   "source": [
    "# Plot dividends\n",
    "plt.plot(Capitec.dividends, label=\"Dividends\" )\n",
    "plt.legend(loc=\"best\")\n",
    "plt.ylabel(\"\")\n",
    "plt.xlabel(\"Year\")\n",
    "plt.title(Capitec.info['symbol'] + \" historical dividends\")\n",
    "plt.show()"
   ]
  },
  {
   "cell_type": "code",
   "execution_count": 5,
   "metadata": {
    "colab": {
     "base_uri": "https://localhost:8080/",
     "height": 76
    },
    "colab_type": "code",
    "id": "DuXruOX3nL26",
    "outputId": "0606fe0d-8da6-468a-9a6f-13f478d73a0e"
   },
   "outputs": [
    {
     "data": {
      "text/html": [
       "<div>\n",
       "<style scoped>\n",
       "    .dataframe tbody tr th:only-of-type {\n",
       "        vertical-align: middle;\n",
       "    }\n",
       "\n",
       "    .dataframe tbody tr th {\n",
       "        vertical-align: top;\n",
       "    }\n",
       "\n",
       "    .dataframe thead th {\n",
       "        text-align: right;\n",
       "    }\n",
       "</style>\n",
       "<table border=\"1\" class=\"dataframe\">\n",
       "  <thead>\n",
       "    <tr style=\"text-align: right;\">\n",
       "      <th></th>\n",
       "      <th>Open</th>\n",
       "      <th>High</th>\n",
       "      <th>Low</th>\n",
       "      <th>Close</th>\n",
       "      <th>Adj Close</th>\n",
       "      <th>Volume</th>\n",
       "    </tr>\n",
       "    <tr>\n",
       "      <th>Date</th>\n",
       "      <th></th>\n",
       "      <th></th>\n",
       "      <th></th>\n",
       "      <th></th>\n",
       "      <th></th>\n",
       "      <th></th>\n",
       "    </tr>\n",
       "  </thead>\n",
       "  <tbody>\n",
       "  </tbody>\n",
       "</table>\n",
       "</div>"
      ],
      "text/plain": [
       "Empty DataFrame\n",
       "Columns: [Open, High, Low, Close, Adj Close, Volume]\n",
       "Index: []"
      ]
     },
     "execution_count": 5,
     "metadata": {},
     "output_type": "execute_result"
    }
   ],
   "source": [
    "Capitec.balance_sheet"
   ]
  },
  {
   "cell_type": "markdown",
   "metadata": {
    "colab_type": "text",
    "id": "fa1WZpZHmy6b"
   },
   "source": [
    "Already, we have found a problem with using <code>yfinance</code> API in order to import financial data. Since it cannot show the financials of Capitec, a well known bank in South Africa. We suggest using a different API. It was good fun learning so far though. For more on <code>yfinance</code> see [Reliably download historical market data from Yahoo! Finance with Python](https://aroussi.com/post/python-yahoo-finance) and [Awesome open source: yfinance](https://awesomeopensource.com/project/ranaroussi/yfinance). \n",
    "\n",
    "#### Conclusion \n",
    "The author of the API **Ran Aroussi** created a good API that imports market data well and works fast in python. We did run into some problems trying to get certain data that would be crucial towards analysis of a security which led to the conclusion that the API needs more improvement and is not be the best open-source way to import financial data into python. We ended the analysis prematurely as the API is not yet fully functional."
   ]
  },
  {
   "cell_type": "markdown",
   "metadata": {},
   "source": [
    "---"
   ]
  },
  {
   "cell_type": "markdown",
   "metadata": {},
   "source": [
    "We went back to try a similar analysis with Microsoft, the ticker used in the API's documentation. To see whether the API can access the balance sheet and financials that are available on Yahoo! finances website."
   ]
  },
  {
   "cell_type": "code",
   "execution_count": 19,
   "metadata": {},
   "outputs": [],
   "source": [
    "import yfinance as yf\n",
    "\n",
    "msft = yf.Ticker(\"MSFT\")"
   ]
  },
  {
   "cell_type": "code",
   "execution_count": 30,
   "metadata": {},
   "outputs": [
    {
     "data": {
      "text/plain": [
       "{'zip': '98052',\n",
       " 'sector': 'Technology',\n",
       " 'fullTimeEmployees': 144000,\n",
       " 'longBusinessSummary': \"Microsoft Corporation develops, licenses, and supports software, services, devices, and solutions worldwide. The company's Productivity and Business Processes segment offers Office, Exchange, SharePoint, Microsoft Teams, Office 365 Security and Compliance, and Skype for Business, as well as related Client Access Licenses (CAL); and Skype, Outlook.com, and OneDrive. It also provides LinkedIn that includes Talent and marketing solutions, and subscriptions; and Dynamics 365, a set of cloud-based and on-premises business solutions for small and medium businesses, large organizations, and divisions of enterprises. Its Intelligent Cloud segment licenses SQL and Windows Servers, Visual Studio, System Center, and related CALs; GitHub that provides a collaboration platform and code hosting service for developers; and Azure, a cloud platform. It also provides support services and Microsoft consulting services to assist customers in developing, deploying, and managing Microsoft server and desktop solutions; and training and certification to developers and IT professionals on various Microsoft products. Its More Personal Computing segment offers Windows OEM licensing and other non-volume licensing of the Windows operating system; Windows Commercial comprising volume licensing of the Windows operating system, Windows cloud services, and other Windows commercial offerings; patent licensing; Windows Internet of Things; and MSN advertising. It also provides Microsoft Surface, PC accessories, and other intelligent devices; Gaming, including Xbox hardware, and Xbox software and services; video games and third-party video game royalties; and Search, including Bing and Microsoft advertising. It sells its products through distributors and resellers; and directly through digital marketplaces, online stores, and retail stores. It has strategic partnerships with Humana Inc., Nokia, Telkomsel, and Swiss Re. The company was founded in 1975 and is headquartered in Redmond, Washington.\",\n",
       " 'city': 'Redmond',\n",
       " 'phone': '425-882-8080',\n",
       " 'state': 'WA',\n",
       " 'country': 'United States',\n",
       " 'companyOfficers': [],\n",
       " 'website': 'http://www.microsoft.com',\n",
       " 'maxAge': 1,\n",
       " 'address1': 'One Microsoft Way',\n",
       " 'fax': '425-706-7329',\n",
       " 'industry': 'Software—Infrastructure',\n",
       " 'previousClose': 173.7,\n",
       " 'regularMarketOpen': 171.2,\n",
       " 'twoHundredDayAverage': 155.85486,\n",
       " 'trailingAnnualDividendYield': 0.011168682,\n",
       " 'payoutRatio': 0.32930002,\n",
       " 'volume24Hr': None,\n",
       " 'regularMarketDayHigh': 173.56,\n",
       " 'navPrice': None,\n",
       " 'averageDailyVolume10Day': 54052016,\n",
       " 'totalAssets': None,\n",
       " 'regularMarketPreviousClose': 173.7,\n",
       " 'fiftyDayAverage': 156.40172,\n",
       " 'trailingAnnualDividendRate': 1.94,\n",
       " 'open': 171.2,\n",
       " 'toCurrency': None,\n",
       " 'averageVolume10days': 54052016,\n",
       " 'expireDate': None,\n",
       " 'yield': None,\n",
       " 'algorithm': None,\n",
       " 'dividendRate': 2.04,\n",
       " 'exDividendDate': 1589932800,\n",
       " 'beta': 0.962017,\n",
       " 'circulatingSupply': None,\n",
       " 'startDate': None,\n",
       " 'regularMarketDayLow': 169.24,\n",
       " 'priceHint': 2,\n",
       " 'currency': 'USD',\n",
       " 'trailingPE': 29.939035,\n",
       " 'regularMarketVolume': 39214625,\n",
       " 'lastMarket': None,\n",
       " 'maxSupply': None,\n",
       " 'openInterest': None,\n",
       " 'marketCap': 1307327856640,\n",
       " 'volumeAllCurrencies': None,\n",
       " 'strikePrice': None,\n",
       " 'averageVolume': 53723538,\n",
       " 'priceToSalesTrailing12Months': 9.738083,\n",
       " 'dayLow': 169.24,\n",
       " 'ask': 171,\n",
       " 'ytdReturn': None,\n",
       " 'askSize': 1000,\n",
       " 'volume': 39214625,\n",
       " 'fiftyTwoWeekHigh': 190.7,\n",
       " 'forwardPE': 27.767366,\n",
       " 'fromCurrency': None,\n",
       " 'fiveYearAvgDividendYield': 1.97,\n",
       " 'fiftyTwoWeekLow': 119.01,\n",
       " 'bid': 171,\n",
       " 'tradeable': False,\n",
       " 'dividendYield': 0.0117,\n",
       " 'bidSize': 800,\n",
       " 'dayHigh': 173.56,\n",
       " 'exchange': 'NMS',\n",
       " 'shortName': 'Microsoft Corporation',\n",
       " 'longName': 'Microsoft Corporation',\n",
       " 'exchangeTimezoneName': 'America/New_York',\n",
       " 'exchangeTimezoneShortName': 'EDT',\n",
       " 'isEsgPopulated': False,\n",
       " 'gmtOffSetMilliseconds': '-14400000',\n",
       " 'quoteType': 'EQUITY',\n",
       " 'symbol': 'MSFT',\n",
       " 'messageBoardId': 'finmb_21835',\n",
       " 'market': 'us_market',\n",
       " 'annualHoldingsTurnover': None,\n",
       " 'enterpriseToRevenue': 9.387,\n",
       " 'beta3Year': None,\n",
       " 'profitMargins': 0.33016,\n",
       " 'enterpriseToEbitda': 20.57,\n",
       " '52WeekChange': 0.4264598,\n",
       " 'morningStarRiskRating': None,\n",
       " 'forwardEps': 6.19,\n",
       " 'revenueQuarterlyGrowth': None,\n",
       " 'sharesOutstanding': 7606049792,\n",
       " 'fundInceptionDate': None,\n",
       " 'annualReportExpenseRatio': None,\n",
       " 'bookValue': 14.467,\n",
       " 'sharesShort': 58762671,\n",
       " 'sharesPercentSharesOut': 0.0077,\n",
       " 'fundFamily': None,\n",
       " 'lastFiscalYearEnd': 1561852800,\n",
       " 'heldPercentInstitutions': 0.74297994,\n",
       " 'netIncomeToCommon': 44323000320,\n",
       " 'trailingEps': 5.741,\n",
       " 'lastDividendValue': None,\n",
       " 'SandP52WeekChange': -0.018752217,\n",
       " 'priceToBook': 11.880833,\n",
       " 'heldPercentInsiders': 0.01421,\n",
       " 'nextFiscalYearEnd': 1625011200,\n",
       " 'mostRecentQuarter': 1577750400,\n",
       " 'shortRatio': 0.8,\n",
       " 'sharesShortPreviousMonthDate': 1582848000,\n",
       " 'floatShares': 7494998724,\n",
       " 'enterpriseValue': 1260243386368,\n",
       " 'threeYearAverageReturn': None,\n",
       " 'lastSplitDate': 1045526400,\n",
       " 'lastSplitFactor': '2:1',\n",
       " 'legalType': None,\n",
       " 'morningStarOverallRating': None,\n",
       " 'earningsQuarterlyGrowth': 0.383,\n",
       " 'dateShortInterest': 1585612800,\n",
       " 'pegRatio': 2.19,\n",
       " 'lastCapGain': None,\n",
       " 'shortPercentOfFloat': 0.0077,\n",
       " 'sharesShortPriorMonth': 37031775,\n",
       " 'category': None,\n",
       " 'fiveYearAverageReturn': None,\n",
       " 'regularMarketPrice': 171.2,\n",
       " 'logo_url': 'https://logo.clearbit.com/microsoft.com'}"
      ]
     },
     "execution_count": 30,
     "metadata": {},
     "output_type": "execute_result"
    }
   ],
   "source": [
    "# get stock info\n",
    "msft.info"
   ]
  },
  {
   "cell_type": "code",
   "execution_count": 20,
   "metadata": {},
   "outputs": [
    {
     "data": {
      "text/html": [
       "<div>\n",
       "<style scoped>\n",
       "    .dataframe tbody tr th:only-of-type {\n",
       "        vertical-align: middle;\n",
       "    }\n",
       "\n",
       "    .dataframe tbody tr th {\n",
       "        vertical-align: top;\n",
       "    }\n",
       "\n",
       "    .dataframe thead th {\n",
       "        text-align: right;\n",
       "    }\n",
       "</style>\n",
       "<table border=\"1\" class=\"dataframe\">\n",
       "  <thead>\n",
       "    <tr style=\"text-align: right;\">\n",
       "      <th></th>\n",
       "      <th>Open</th>\n",
       "      <th>High</th>\n",
       "      <th>Low</th>\n",
       "      <th>Close</th>\n",
       "      <th>Volume</th>\n",
       "      <th>Dividends</th>\n",
       "      <th>Stock Splits</th>\n",
       "    </tr>\n",
       "    <tr>\n",
       "      <th>Date</th>\n",
       "      <th></th>\n",
       "      <th></th>\n",
       "      <th></th>\n",
       "      <th></th>\n",
       "      <th></th>\n",
       "      <th></th>\n",
       "      <th></th>\n",
       "    </tr>\n",
       "  </thead>\n",
       "  <tbody>\n",
       "    <tr>\n",
       "      <th>1986-03-13</th>\n",
       "      <td>0.06</td>\n",
       "      <td>0.07</td>\n",
       "      <td>0.06</td>\n",
       "      <td>0.06</td>\n",
       "      <td>1031788800</td>\n",
       "      <td>0.0</td>\n",
       "      <td>0.0</td>\n",
       "    </tr>\n",
       "    <tr>\n",
       "      <th>1986-03-14</th>\n",
       "      <td>0.06</td>\n",
       "      <td>0.07</td>\n",
       "      <td>0.06</td>\n",
       "      <td>0.06</td>\n",
       "      <td>308160000</td>\n",
       "      <td>0.0</td>\n",
       "      <td>0.0</td>\n",
       "    </tr>\n",
       "    <tr>\n",
       "      <th>1986-03-17</th>\n",
       "      <td>0.06</td>\n",
       "      <td>0.07</td>\n",
       "      <td>0.06</td>\n",
       "      <td>0.07</td>\n",
       "      <td>133171200</td>\n",
       "      <td>0.0</td>\n",
       "      <td>0.0</td>\n",
       "    </tr>\n",
       "    <tr>\n",
       "      <th>1986-03-18</th>\n",
       "      <td>0.07</td>\n",
       "      <td>0.07</td>\n",
       "      <td>0.06</td>\n",
       "      <td>0.06</td>\n",
       "      <td>67766400</td>\n",
       "      <td>0.0</td>\n",
       "      <td>0.0</td>\n",
       "    </tr>\n",
       "    <tr>\n",
       "      <th>1986-03-19</th>\n",
       "      <td>0.06</td>\n",
       "      <td>0.06</td>\n",
       "      <td>0.06</td>\n",
       "      <td>0.06</td>\n",
       "      <td>47894400</td>\n",
       "      <td>0.0</td>\n",
       "      <td>0.0</td>\n",
       "    </tr>\n",
       "  </tbody>\n",
       "</table>\n",
       "</div>"
      ],
      "text/plain": [
       "            Open  High   Low  Close      Volume  Dividends  Stock Splits\n",
       "Date                                                                    \n",
       "1986-03-13  0.06  0.07  0.06   0.06  1031788800        0.0           0.0\n",
       "1986-03-14  0.06  0.07  0.06   0.06   308160000        0.0           0.0\n",
       "1986-03-17  0.06  0.07  0.06   0.07   133171200        0.0           0.0\n",
       "1986-03-18  0.07  0.07  0.06   0.06    67766400        0.0           0.0\n",
       "1986-03-19  0.06  0.06  0.06   0.06    47894400        0.0           0.0"
      ]
     },
     "execution_count": 20,
     "metadata": {},
     "output_type": "execute_result"
    }
   ],
   "source": [
    "# get historical market data\n",
    "hist = msft.history(period=\"max\")\n",
    "hist.head()"
   ]
  },
  {
   "cell_type": "code",
   "execution_count": 21,
   "metadata": {},
   "outputs": [
    {
     "data": {
      "image/png": "[encoded data removed]",
      "text/plain": [
       "<Figure size 432x288 with 1 Axes>"
      ]
     },
     "metadata": {
      "needs_background": "light"
     },
     "output_type": "display_data"
    }
   ],
   "source": [
    "# Plot the historical opening price\n",
    "plt.plot(hist[\"Open\"],label=\"Open\")\n",
    "plt.legend(loc=\"best\")\n",
    "plt.xlabel(\"Price\")\n",
    "plt.xlabel(\"Year\")\n",
    "plt.title(msft.info['symbol'] + \" Historical Daily opening  price\")\n",
    "plt.show()"
   ]
  },
  {
   "cell_type": "code",
   "execution_count": 22,
   "metadata": {},
   "outputs": [
    {
     "data": {
      "text/html": [
       "<div>\n",
       "<style scoped>\n",
       "    .dataframe tbody tr th:only-of-type {\n",
       "        vertical-align: middle;\n",
       "    }\n",
       "\n",
       "    .dataframe tbody tr th {\n",
       "        vertical-align: top;\n",
       "    }\n",
       "\n",
       "    .dataframe thead th {\n",
       "        text-align: right;\n",
       "    }\n",
       "</style>\n",
       "<table border=\"1\" class=\"dataframe\">\n",
       "  <thead>\n",
       "    <tr style=\"text-align: right;\">\n",
       "      <th></th>\n",
       "      <th>Open</th>\n",
       "      <th>High</th>\n",
       "      <th>Low</th>\n",
       "      <th>Close</th>\n",
       "      <th>Adj Close</th>\n",
       "      <th>Volume</th>\n",
       "    </tr>\n",
       "    <tr>\n",
       "      <th>Date</th>\n",
       "      <th></th>\n",
       "      <th></th>\n",
       "      <th></th>\n",
       "      <th></th>\n",
       "      <th></th>\n",
       "      <th></th>\n",
       "    </tr>\n",
       "  </thead>\n",
       "  <tbody>\n",
       "  </tbody>\n",
       "</table>\n",
       "</div>"
      ],
      "text/plain": [
       "Empty DataFrame\n",
       "Columns: [Open, High, Low, Close, Adj Close, Volume]\n",
       "Index: []"
      ]
     },
     "execution_count": 22,
     "metadata": {},
     "output_type": "execute_result"
    }
   ],
   "source": [
    "# show financials (API not working)\n",
    "msft.financials"
   ]
  },
  {
   "cell_type": "code",
   "execution_count": 27,
   "metadata": {},
   "outputs": [
    {
     "data": {
      "text/html": [
       "<div>\n",
       "<style scoped>\n",
       "    .dataframe tbody tr th:only-of-type {\n",
       "        vertical-align: middle;\n",
       "    }\n",
       "\n",
       "    .dataframe tbody tr th {\n",
       "        vertical-align: top;\n",
       "    }\n",
       "\n",
       "    .dataframe thead th {\n",
       "        text-align: right;\n",
       "    }\n",
       "</style>\n",
       "<table border=\"1\" class=\"dataframe\">\n",
       "  <thead>\n",
       "    <tr style=\"text-align: right;\">\n",
       "      <th></th>\n",
       "      <th>Open</th>\n",
       "      <th>High</th>\n",
       "      <th>Low</th>\n",
       "      <th>Close</th>\n",
       "      <th>Adj Close</th>\n",
       "      <th>Volume</th>\n",
       "    </tr>\n",
       "    <tr>\n",
       "      <th>Date</th>\n",
       "      <th></th>\n",
       "      <th></th>\n",
       "      <th></th>\n",
       "      <th></th>\n",
       "      <th></th>\n",
       "      <th></th>\n",
       "    </tr>\n",
       "  </thead>\n",
       "  <tbody>\n",
       "  </tbody>\n",
       "</table>\n",
       "</div>"
      ],
      "text/plain": [
       "Empty DataFrame\n",
       "Columns: [Open, High, Low, Close, Adj Close, Volume]\n",
       "Index: []"
      ]
     },
     "execution_count": 27,
     "metadata": {},
     "output_type": "execute_result"
    }
   ],
   "source": [
    "# show financials API Not working\n",
    "msft.quarterly_financials.head"
   ]
  }
 ],
 "metadata": {
  "colab": {
   "authorship_tag": "ABX9TyOtJblYdCP3NPSUATu+EHjQ",
   "name": "yfinanceAPIanalysis.ipynb",
   "provenance": []
  },
  "kernelspec": {
   "display_name": "Python 3",
   "language": "python",
   "name": "python3"
  },
  "language_info": {
   "codemirror_mode": {
    "name": "ipython",
    "version": 3
   },
   "file_extension": ".py",
   "mimetype": "text/x-python",
   "name": "python",
   "nbconvert_exporter": "python",
   "pygments_lexer": "ipython3",
   "version": "3.7.3"
  }
 },
 "nbformat": 4,
 "nbformat_minor": 1
}
